{
 "cells": [
  {
   "cell_type": "markdown",
   "metadata": {},
   "source": [
    "[![Open In Colab](https://colab.research.google.com/assets/colab-badge.svg)](https://colab.research.google.com/github/p-mayor/hangman/blob/master/hangmenNotebook.ipynb)"
   ]
  },
  {
   "cell_type": "markdown",
   "metadata": {},
   "source": [
    "# Hangman - IndyPy Beginner Jam"
   ]
  },
  {
   "cell_type": "markdown",
   "metadata": {},
   "source": [
    "##### Author: Peter Mayor"
   ]
  },
  {
   "cell_type": "markdown",
   "metadata": {},
   "source": [
    "## Part 1 - Setup"
   ]
  },
  {
   "cell_type": "code",
   "execution_count": 80,
   "metadata": {},
   "outputs": [],
   "source": [
    "import random"
   ]
  },
  {
   "cell_type": "code",
   "execution_count": 81,
   "metadata": {},
   "outputs": [
    {
     "name": "stdout",
     "output_type": "stream",
     "text": [
      "  |\n",
      " O|_\n",
      " /\\\n",
      "  /\\_\n",
      "  \\  `\n",
      "  `\n"
     ]
    }
   ],
   "source": [
    "hangman_loser_string = '''  |\n",
    " O|_\n",
    " /\\\\\n",
    "  /\\_\n",
    "  \\  `\n",
    "  `'''\n",
    "print(hangman_loser_string)"
   ]
  },
  {
   "cell_type": "code",
   "execution_count": 82,
   "metadata": {},
   "outputs": [],
   "source": [
    "hangman_loser_list = hangman_loser_string.split('\\n')\n",
    "body_part_count = len(hangman_loser_list)"
   ]
  },
  {
   "cell_type": "code",
   "execution_count": 83,
   "metadata": {},
   "outputs": [
    {
     "name": "stdout",
     "output_type": "stream",
     "text": [
      "  \n",
      "  O_/\n",
      "_/|\n",
      "__)\\\n",
      "`   \\_\n",
      "\n"
     ]
    }
   ],
   "source": [
    "hangman_winner_string = '''  \n",
    "  O_/\n",
    "_/|\n",
    "__)\\\\\n",
    "`   \\_\n",
    "'''\n",
    "print(hangman_winner_string)"
   ]
  },
  {
   "cell_type": "markdown",
   "metadata": {},
   "source": [
    "## Part 2 - Define Main"
   ]
  },
  {
   "cell_type": "code",
   "execution_count": 84,
   "metadata": {},
   "outputs": [],
   "source": [
    "def main():\n",
    "    # set the secret word\n",
    "    secret_string = random.choice(['spongebob', 'krabs', 'patrick', 'squidward', 'sandy', 'mermaidman', 'barnacleboy'])\n",
    "    secret_word = list(secret_string)\n",
    "    secret_set = set(secret_word)\n",
    "    \n",
    "    # initialize game state \n",
    "    displayed_word_list = list(\"_\" * len(secret_word))\n",
    "    turns_remaining = body_part_count\n",
    "    guess_history_string = \"\"\n",
    "    \n",
    "    # helper function for user name input and welcome output\n",
    "    name = print_welcome()\n",
    "    \n",
    "    # while turns greater than zero\n",
    "    while turns_remaining:\n",
    "        displayed_word_string = \" \".join(displayed_word_list)\n",
    "        print(displayed_word_string + \"\\n\")\n",
    "        print(\"Old guesses: \" + guess_history_string + \"\\n\")\n",
    "        print(\"Guesses remaining: \" + str(turns_remaining) + \"\\n\")\n",
    "        current_guess = input(\"Guess a letter: \")\n",
    "        guess_history_string += current_guess\n",
    "        \n",
    "        # check current guess against secret_set\n",
    "        if current_guess in secret_set:\n",
    "            print('Correct!')\n",
    "            # update displayed word with correct guess\n",
    "            for index, character in enumerate(secret_word):\n",
    "                if character == current_guess:\n",
    "                    displayed_word_list[index] = character\n",
    "            secret_set.remove(current_guess)\n",
    "        else:\n",
    "            print(\"Wrong!\")\n",
    "            turns_remaining -= 1\n",
    "        \n",
    "        if not turns_remaining:\n",
    "            print(\"Out of turns... :( The right answer was: \" + secret_string)\n",
    "            \n",
    "        # check for win condition\n",
    "        if \"_\" not in displayed_word_list:\n",
    "            displayed_word_string = \" \".join(displayed_word_list)\n",
    "            print(\"Final word: \" + displayed_word_string + \"\\n\")\n",
    "            print(name + \" escaped the hangman's noose!\")\n",
    "            print(hangman_winner_string)\n",
    "            break\n",
    "        print_hangman(turns_remaining)"
   ]
  },
  {
   "cell_type": "markdown",
   "metadata": {},
   "source": [
    "## Part 3 - Define Helper Functions"
   ]
  },
  {
   "cell_type": "code",
   "execution_count": 85,
   "metadata": {},
   "outputs": [],
   "source": [
    "def print_hangman(turns_remaining):\n",
    "    '''handle printing current hangman'''\n",
    "\n",
    "    spacing_full = list(\" \" * body_part_count)\n",
    "    spacing = spacing_full[body_part_count-turns_remaining:]\n",
    "    completed_hangman = hangman_loser_list[:body_part_count-turns_remaining]\n",
    "    \n",
    "    complete_scene_list = completed_hangman + spacing\n",
    "    \n",
    "    current_hangman = \"\\n\".join(complete_scene_list)\n",
    "    print(\"_________________\")\n",
    "    print(current_hangman)"
   ]
  },
  {
   "cell_type": "code",
   "execution_count": 86,
   "metadata": {},
   "outputs": [],
   "source": [
    "def print_welcome():\n",
    "    '''get user name and print welcome'''\n",
    "    name = input(\"What is your name?\")\n",
    "    print(\"Hello, %s! Time to play hangman!\" % (name))\n",
    "    print(\"Start guessing! Category: spongebob characters \\n\")\n",
    "    return name"
   ]
  },
  {
   "cell_type": "code",
   "execution_count": null,
   "metadata": {
    "scrolled": false
   },
   "outputs": [],
   "source": [
    "main()"
   ]
  },
  {
   "cell_type": "code",
   "execution_count": null,
   "metadata": {},
   "outputs": [],
   "source": []
  }
 ],
 "metadata": {
  "kernelspec": {
   "display_name": "Python 3",
   "language": "python",
   "name": "python3"
  },
  "language_info": {
   "codemirror_mode": {
    "name": "ipython",
    "version": 3
   },
   "file_extension": ".py",
   "mimetype": "text/x-python",
   "name": "python",
   "nbconvert_exporter": "python",
   "pygments_lexer": "ipython3",
   "version": "3.7.3"
  }
 },
 "nbformat": 4,
 "nbformat_minor": 2
}
