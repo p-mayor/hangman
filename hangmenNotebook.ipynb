{
 "cells": [
  {
   "cell_type": "markdown",
   "metadata": {},
   "source": [
    "# Hangman - IndyPy Beginner Jam\n",
    "***"
   ]
  },
  {
   "cell_type": "markdown",
   "metadata": {},
   "source": [
    "## Part 1 - Setup"
   ]
  },
  {
   "cell_type": "code",
   "execution_count": 211,
   "metadata": {},
   "outputs": [],
   "source": [
    "import random"
   ]
  },
  {
   "cell_type": "code",
   "execution_count": 212,
   "metadata": {},
   "outputs": [
    {
     "name": "stdout",
     "output_type": "stream",
     "text": [
      "  |\n",
      " O|_\n",
      " /\\\n",
      "  /\\_\n",
      "  \\  `\n",
      "  `\n"
     ]
    }
   ],
   "source": [
    "hangman_loser_string = '''  |\n",
    " O|_\n",
    " /\\\\\n",
    "  /\\_\n",
    "  \\  `\n",
    "  `'''\n",
    "print(hangman_loser_string)"
   ]
  },
  {
   "cell_type": "code",
   "execution_count": 213,
   "metadata": {},
   "outputs": [],
   "source": [
    "# create hangman loser list fromhangman loser string to use for list comprehension later\n",
    "hangman_loser_list = ascii_hangman_loser_string.split('\\n')\n",
    "body_part_count = len(hangman_loser_list)"
   ]
  },
  {
   "cell_type": "code",
   "execution_count": 214,
   "metadata": {},
   "outputs": [
    {
     "name": "stdout",
     "output_type": "stream",
     "text": [
      "  \n",
      "  O_/\n",
      "_/|\n",
      "__)\\\n",
      "`   \\_\n",
      "\n"
     ]
    }
   ],
   "source": [
    "hangman_winner_string = '''  \n",
    "  O_/\n",
    "_/|\n",
    "__)\\\\\n",
    "`   \\_\n",
    "'''\n",
    "print(hangman_winner_string)"
   ]
  },
  {
   "cell_type": "markdown",
   "metadata": {},
   "source": [
    "## Part 2 - Define Main"
   ]
  },
  {
   "cell_type": "code",
   "execution_count": 215,
   "metadata": {},
   "outputs": [],
   "source": [
    "def main():\n",
    "    # set the secret word\n",
    "    secret_string = random.choice(['spongebob', 'krabs', 'patrick', 'squidward', 'sandy', 'mermaidman', 'barnacleboy'])\n",
    "    secret_word = list(secret_string)\n",
    "    secret_set = set(secret_word)\n",
    "    \n",
    "    # initialize game state \n",
    "    game_state = list(\"_\" * len(secret_word))\n",
    "    turns_remaining = body_part_count\n",
    "    guess_history_string = \"\"\n",
    "    \n",
    "    print_welcome()\n",
    "    \n",
    "    # while turns greater than zero\n",
    "    while turns_remaining:\n",
    "        formatted_game_state = \" \".join(game_state)\n",
    "        print(formatted_game_state)\n",
    "        print()\n",
    "        \n",
    "        # check for win condition\n",
    "        if \"_\" not in game_state:\n",
    "            print(\"You won!\")\n",
    "            print(hangman_winner_string)\n",
    "            break\n",
    "\n",
    "        print(\"Old guesses: \" + guess_history_string)\n",
    "        print()\n",
    "        print(\"Body parts left: \" + str(turns_remaining))\n",
    "\n",
    "        # get guess from user\n",
    "        current_guess = input(\"Guess a letter: \")\n",
    "        guess_history_string += current_guess\n",
    "        \n",
    "        # check current guess against secret_set\n",
    "        if current_guess in secret_set:\n",
    "            print('Correct!')\n",
    "            # loop over range of length of secret_word\n",
    "            for index, character in enumerate(secret_word):\n",
    "                # check if current character in secret_word equals current guess\n",
    "                if character == current_guess:\n",
    "                    # update displayed_list with character\n",
    "                    game_state[index] = character\n",
    "            # remove correct guess from secret_set\n",
    "            secret_set.remove(current_guess)\n",
    "        else:\n",
    "            print(\"Wrong!\")\n",
    "            turns_remaining -= 1\n",
    "        if not turns_remaining:\n",
    "            print_hangman(turns_remaining)\n",
    "            print(\"Out of turns... :( \")\n",
    "            print(\"The right answer was: \" + secret_string)\n",
    "        print_hangman(turns_remaining)"
   ]
  },
  {
   "cell_type": "markdown",
   "metadata": {},
   "source": [
    "## Part 3 - Define Helper Functions"
   ]
  },
  {
   "cell_type": "code",
   "execution_count": 216,
   "metadata": {},
   "outputs": [],
   "source": [
    "def print_hangman(turns_remaining):\n",
    "    '''handle printing current hangman'''\n",
    "\n",
    "    spacing_full = list(\" \" * body_part_count)\n",
    "    spacing = spacing_full[body_part_count-turns_remaining:]\n",
    "    completed_hangman = hangman_loser_list[:body_part_count-turns_remaining]\n",
    "    \n",
    "    complete_scene_list = completed_hangman + spacing\n",
    "    \n",
    "    current_hangman = \"\\n\".join(complete_scene_list)\n",
    "    print(current_hangman)"
   ]
  },
  {
   "cell_type": "code",
   "execution_count": 217,
   "metadata": {},
   "outputs": [],
   "source": [
    "def print_welcome():\n",
    "    # get user name and welcome user\n",
    "    name = input(\"What is your name? \")\n",
    "    print(\"\\n\")\n",
    "    print(\"Hello, %s! Time to play hangman!\" % (name))\n",
    "    print(\"\\n\")\n",
    "    print(\"Start guessing! Category: spongebob characters\")\n",
    "    print(\"\\n\")"
   ]
  },
  {
   "cell_type": "code",
   "execution_count": 218,
   "metadata": {
    "scrolled": false
   },
   "outputs": [
    {
     "name": "stdout",
     "output_type": "stream",
     "text": [
      "What is your name? peter\n",
      "\n",
      "\n",
      "Hello, peter! Time to play hangman!\n",
      "\n",
      "\n",
      "Start guessing! Category: spongebob characters\n",
      "\n",
      "\n",
      "_ _ _ _ _\n",
      "\n",
      "Old guesses: \n",
      "\n",
      "Body parts left: 6\n",
      "Guess a letter: a\n",
      "Correct!\n",
      " \n",
      " \n",
      " \n",
      " \n",
      " \n",
      " \n",
      "_ a _ _ _\n",
      "\n",
      "Old guesses: a\n",
      "\n",
      "Body parts left: 6\n",
      "Guess a letter: r\n",
      "Wrong!\n",
      "  |\n",
      " \n",
      " \n",
      " \n",
      " \n",
      " \n",
      "_ a _ _ _\n",
      "\n",
      "Old guesses: ar\n",
      "\n",
      "Body parts left: 5\n",
      "Guess a letter: e\n",
      "Wrong!\n",
      "  |\n",
      " O|_\n",
      " \n",
      " \n",
      " \n",
      " \n",
      "_ a _ _ _\n",
      "\n",
      "Old guesses: are\n",
      "\n",
      "Body parts left: 4\n",
      "Guess a letter: a\n",
      "Wrong!\n",
      "  |\n",
      " O|_\n",
      " /\\\n",
      " \n",
      " \n",
      " \n",
      "_ a _ _ _\n",
      "\n",
      "Old guesses: area\n",
      "\n",
      "Body parts left: 3\n",
      "Guess a letter: p\n",
      "Wrong!\n",
      "  |\n",
      " O|_\n",
      " /\\\n",
      "  /\\_\n",
      " \n",
      " \n",
      "_ a _ _ _\n",
      "\n",
      "Old guesses: areap\n",
      "\n",
      "Body parts left: 2\n",
      "Guess a letter: s\n",
      "Correct!\n",
      "  |\n",
      " O|_\n",
      " /\\\n",
      "  /\\_\n",
      " \n",
      " \n",
      "s a _ _ _\n",
      "\n",
      "Old guesses: areaps\n",
      "\n",
      "Body parts left: 2\n",
      "Guess a letter: n\n",
      "Correct!\n",
      "  |\n",
      " O|_\n",
      " /\\\n",
      "  /\\_\n",
      " \n",
      " \n",
      "s a n _ _\n",
      "\n",
      "Old guesses: areapsn\n",
      "\n",
      "Body parts left: 2\n",
      "Guess a letter: d\n",
      "Correct!\n",
      "  |\n",
      " O|_\n",
      " /\\\n",
      "  /\\_\n",
      " \n",
      " \n",
      "s a n d _\n",
      "\n",
      "Old guesses: areapsnd\n",
      "\n",
      "Body parts left: 2\n",
      "Guess a letter: y\n",
      "Correct!\n",
      "  |\n",
      " O|_\n",
      " /\\\n",
      "  /\\_\n",
      " \n",
      " \n",
      "s a n d y\n",
      "\n",
      "You won!\n",
      "  \n",
      "  O_/\n",
      "_/|\n",
      "__)\\\n",
      "`   \\_\n",
      "\n"
     ]
    }
   ],
   "source": [
    "main()"
   ]
  },
  {
   "cell_type": "code",
   "execution_count": null,
   "metadata": {},
   "outputs": [],
   "source": []
  }
 ],
 "metadata": {
  "kernelspec": {
   "display_name": "Python 3",
   "language": "python",
   "name": "python3"
  },
  "language_info": {
   "codemirror_mode": {
    "name": "ipython",
    "version": 3
   },
   "file_extension": ".py",
   "mimetype": "text/x-python",
   "name": "python",
   "nbconvert_exporter": "python",
   "pygments_lexer": "ipython3",
   "version": "3.7.3"
  }
 },
 "nbformat": 4,
 "nbformat_minor": 2
}
