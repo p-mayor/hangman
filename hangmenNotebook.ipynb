{
 "cells": [
  {
   "cell_type": "markdown",
   "metadata": {},
   "source": [
    "[![Open In Colab](https://colab.research.google.com/assets/colab-badge.svg)](https://colab.research.google.com/github/p-mayor/hangman/blob/master/hangmenNotebook.ipynb)"
   ]
  },
  {
   "cell_type": "markdown",
   "metadata": {},
   "source": [
    "# Hangman - IndyPy Beginner Jam\n",
    "***"
   ]
  },
  {
   "cell_type": "markdown",
   "metadata": {},
   "source": [
    "## Part 1 - Setup"
   ]
  },
  {
   "cell_type": "code",
   "execution_count": 1,
   "metadata": {},
   "outputs": [],
   "source": [
    "import random"
   ]
  },
  {
   "cell_type": "code",
   "execution_count": 2,
   "metadata": {},
   "outputs": [
    {
     "name": "stdout",
     "output_type": "stream",
     "text": [
      "  |\n",
      " O|_\n",
      " /\\\n",
      "  /\\_\n",
      "  \\  `\n",
      "  `\n"
     ]
    }
   ],
   "source": [
    "hangman_loser_string = '''  |\n",
    " O|_\n",
    " /\\\\\n",
    "  /\\_\n",
    "  \\  `\n",
    "  `'''\n",
    "print(hangman_loser_string)"
   ]
  },
  {
   "cell_type": "code",
   "execution_count": 3,
   "metadata": {},
   "outputs": [],
   "source": [
    "# create hangman loser list fromhangman loser string to use for list comprehension later\n",
    "hangman_loser_list = hangman_loser_string.split('\\n')\n",
    "body_part_count = len(hangman_loser_list)"
   ]
  },
  {
   "cell_type": "code",
   "execution_count": 4,
   "metadata": {},
   "outputs": [
    {
     "name": "stdout",
     "output_type": "stream",
     "text": [
      "  \n",
      "  O_/\n",
      "_/|\n",
      "__)\\\n",
      "`   \\_\n",
      "\n"
     ]
    }
   ],
   "source": [
    "hangman_winner_string = '''  \n",
    "  O_/\n",
    "_/|\n",
    "__)\\\\\n",
    "`   \\_\n",
    "'''\n",
    "print(hangman_winner_string)"
   ]
  },
  {
   "cell_type": "markdown",
   "metadata": {},
   "source": [
    "## Part 2 - Define Main"
   ]
  },
  {
   "cell_type": "code",
   "execution_count": 5,
   "metadata": {},
   "outputs": [],
   "source": [
    "def main():\n",
    "    # set the secret word\n",
    "    secret_string = random.choice(['spongebob', 'krabs', 'patrick', 'squidward', 'sandy', 'mermaidman', 'barnacleboy'])\n",
    "    secret_word = list(secret_string)\n",
    "    secret_set = set(secret_word)\n",
    "    \n",
    "    # initialize game state \n",
    "    game_state = list(\"_\" * len(secret_word))\n",
    "    turns_remaining = body_part_count\n",
    "    guess_history_string = \"\"\n",
    "    \n",
    "    print_welcome()\n",
    "    \n",
    "    # while turns greater than zero\n",
    "    while turns_remaining:\n",
    "        formatted_game_state = \" \".join(game_state)\n",
    "        print(formatted_game_state + \"\\n\")\n",
    "        \n",
    "        # check for win condition\n",
    "        if \"_\" not in game_state:\n",
    "            print(\"You escaped the hangman's noose!\")\n",
    "            print(hangman_winner_string)\n",
    "            break\n",
    "\n",
    "        print(\"Old guesses: \" + guess_history_string + \"\\n\")\n",
    "        print(\"Body parts left: \" + str(turns_remaining))\n",
    "\n",
    "        current_guess = input(\"Guess a letter: \")\n",
    "        guess_history_string += current_guess\n",
    "        \n",
    "        # check current guess against secret_set\n",
    "        if current_guess in secret_set:\n",
    "            print('Correct!')\n",
    "            for index, character in enumerate(secret_word):\n",
    "                if character == current_guess:\n",
    "                    game_state[index] = character\n",
    "            secret_set.remove(current_guess)\n",
    "        else:\n",
    "            print(\"Wrong!\")\n",
    "            turns_remaining -= 1\n",
    "        if not turns_remaining:\n",
    "            print_hangman(turns_remaining)\n",
    "            print(\"Out of turns... :( \")\n",
    "            print(\"The right answer was: \" + secret_string)\n",
    "        print_hangman(turns_remaining)"
   ]
  },
  {
   "cell_type": "markdown",
   "metadata": {},
   "source": [
    "## Part 3 - Define Helper Functions"
   ]
  },
  {
   "cell_type": "code",
   "execution_count": 6,
   "metadata": {},
   "outputs": [],
   "source": [
    "def print_hangman(turns_remaining):\n",
    "    '''handle printing current hangman'''\n",
    "\n",
    "    spacing_full = list(\" \" * body_part_count)\n",
    "    spacing = spacing_full[body_part_count-turns_remaining:]\n",
    "    completed_hangman = hangman_loser_list[:body_part_count-turns_remaining]\n",
    "    \n",
    "    complete_scene_list = completed_hangman + spacing\n",
    "    \n",
    "    current_hangman = \"\\n\".join(complete_scene_list)\n",
    "    print(current_hangman)"
   ]
  },
  {
   "cell_type": "code",
   "execution_count": 7,
   "metadata": {},
   "outputs": [],
   "source": [
    "def print_welcome():\n",
    "    # get user name and welcome user\n",
    "    name = input(\"What is your name?\")\n",
    "    print(\"Hello, %s! Time to play hangman!\" % (name))\n",
    "    print(\"Start guessing! Category: spongebob characters \\n\")"
   ]
  },
  {
   "cell_type": "code",
   "execution_count": 8,
   "metadata": {
    "scrolled": false
   },
   "outputs": [
    {
     "name": "stdout",
     "output_type": "stream",
     "text": [
      "What is your name?peter\n",
      "Hello, peter! Time to play hangman!\n",
      "Start guessing! Category: spongebob characters \n",
      "\n",
      "_ _ _ _ _ _ _\n",
      "\n",
      "Old guesses: \n",
      "\n",
      "Body parts left: 6\n",
      "Guess a letter: p\n",
      "Correct!\n",
      " \n",
      " \n",
      " \n",
      " \n",
      " \n",
      " \n",
      "p _ _ _ _ _ _\n",
      "\n",
      "Old guesses: p\n",
      "\n",
      "Body parts left: 6\n",
      "Guess a letter: a\n",
      "Correct!\n",
      " \n",
      " \n",
      " \n",
      " \n",
      " \n",
      " \n",
      "p a _ _ _ _ _\n",
      "\n",
      "Old guesses: pa\n",
      "\n",
      "Body parts left: 6\n",
      "Guess a letter: t\n",
      "Correct!\n",
      " \n",
      " \n",
      " \n",
      " \n",
      " \n",
      " \n",
      "p a t _ _ _ _\n",
      "\n",
      "Old guesses: pat\n",
      "\n",
      "Body parts left: 6\n",
      "Guess a letter: r\n",
      "Correct!\n",
      " \n",
      " \n",
      " \n",
      " \n",
      " \n",
      " \n",
      "p a t r _ _ _\n",
      "\n",
      "Old guesses: patr\n",
      "\n",
      "Body parts left: 6\n",
      "Guess a letter: i\n",
      "Correct!\n",
      " \n",
      " \n",
      " \n",
      " \n",
      " \n",
      " \n",
      "p a t r i _ _\n",
      "\n",
      "Old guesses: patri\n",
      "\n",
      "Body parts left: 6\n",
      "Guess a letter: c\n",
      "Correct!\n",
      " \n",
      " \n",
      " \n",
      " \n",
      " \n",
      " \n",
      "p a t r i c _\n",
      "\n",
      "Old guesses: patric\n",
      "\n",
      "Body parts left: 6\n",
      "Guess a letter: a\n",
      "Wrong!\n",
      "  |\n",
      " \n",
      " \n",
      " \n",
      " \n",
      " \n",
      "p a t r i c _\n",
      "\n",
      "Old guesses: patrica\n",
      "\n",
      "Body parts left: 5\n",
      "Guess a letter: a\n",
      "Wrong!\n",
      "  |\n",
      " O|_\n",
      " \n",
      " \n",
      " \n",
      " \n",
      "p a t r i c _\n",
      "\n",
      "Old guesses: patricaa\n",
      "\n",
      "Body parts left: 4\n",
      "Guess a letter: a\n",
      "Wrong!\n",
      "  |\n",
      " O|_\n",
      " /\\\n",
      " \n",
      " \n",
      " \n",
      "p a t r i c _\n",
      "\n",
      "Old guesses: patricaaa\n",
      "\n",
      "Body parts left: 3\n",
      "Guess a letter: k\n",
      "Correct!\n",
      "  |\n",
      " O|_\n",
      " /\\\n",
      " \n",
      " \n",
      " \n",
      "p a t r i c k\n",
      "\n",
      "You won!\n",
      "  \n",
      "  O_/\n",
      "_/|\n",
      "__)\\\n",
      "`   \\_\n",
      "\n"
     ]
    }
   ],
   "source": [
    "main()"
   ]
  },
  {
   "cell_type": "code",
   "execution_count": null,
   "metadata": {},
   "outputs": [],
   "source": []
  }
 ],
 "metadata": {
  "kernelspec": {
   "display_name": "Python 3",
   "language": "python",
   "name": "python3"
  },
  "language_info": {
   "codemirror_mode": {
    "name": "ipython",
    "version": 3
   },
   "file_extension": ".py",
   "mimetype": "text/x-python",
   "name": "python",
   "nbconvert_exporter": "python",
   "pygments_lexer": "ipython3",
   "version": "3.7.3"
  }
 },
 "nbformat": 4,
 "nbformat_minor": 2
}
